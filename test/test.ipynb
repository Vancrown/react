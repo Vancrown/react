{
 "cells": [
  {
   "cell_type": "code",
   "execution_count": 25,
   "metadata": {},
   "outputs": [],
   "source": [
    "import requests\n",
    "import json\n",
    "header ={\"User-Agent\": \"Mozilla/5.0 (Windows; U; Windows NT 5.1; en-US; rv:1.9.2.8) Gecko/20100722 Firefox/3.6.8 GTB7.1 (.NET CLR 3.5.30729)\"}\n",
    "\n",
    "url = 'https://www.uniqlo.com/us/api/commerce/v5/en/products/E469054-000/price-groups/00/'\n",
    "# url = 'https://www.uniqlo.com/us/api/commerce/v5/en/products/E469054-000/price-groups/00/l2s?withPrices=true&withStocks=true&includePreviousPrice=true&httpFailure=true'\n",
    "response = requests.get(url, headers=header)\n",
    "result = json.loads(response.content)['result']\n"
   ]
  },
  {
   "cell_type": "code",
   "execution_count": 26,
   "metadata": {},
   "outputs": [
    {
     "data": {
      "text/plain": [
       "{'color': {'code': 'COL30',\n",
       "  'displayCode': '30',\n",
       "  'name': 'NATURAL',\n",
       "  'display': {'showFlag': True, 'chipType': 0},\n",
       "  'filterCode': 'BEIGE'},\n",
       " 'communicationCode': '469054-30-001-000',\n",
       " 'flags': {'priceFlags': [{'id': 12,\n",
       "    'code': 'discount',\n",
       "    'name': 'Sale',\n",
       "    'type': 'price_flag',\n",
       "    'effectiveTime': {'start': 1717502400, 'end': 0},\n",
       "    'detail': ''}],\n",
       "  'productFlags': []},\n",
       " 'l2Id': '08093478',\n",
       " 'pld': {'code': 'PTB000',\n",
       "  'displayCode': '000',\n",
       "  'name': '-',\n",
       "  'display': {'showFlag': False, 'chipType': 0}},\n",
       " 'prices': {'base': {'currency': {'code': 'USD', 'symbol': '$'},\n",
       "   'value': 19.9},\n",
       "  'promo': {'currency': {'code': 'USD', 'symbol': '$'}, 'value': 19.9},\n",
       "  'isDualPrice': False,\n",
       "  'taxPolicy': 'EXCLUSIVE'},\n",
       " 'sales': True,\n",
       " 'salesType': 'NORMAL',\n",
       " 'searchInStoresAvailable': True,\n",
       " 'size': {'code': 'SMA001',\n",
       "  'displayCode': '001',\n",
       "  'name': 'XXS',\n",
       "  'display': {'showFlag': True, 'chipType': 0}},\n",
       " 'alterations': {}}"
      ]
     },
     "execution_count": 26,
     "metadata": {},
     "output_type": "execute_result"
    }
   ],
   "source": [
    "result['l2s'][0]"
   ]
  },
  {
   "cell_type": "code",
   "execution_count": 43,
   "metadata": {},
   "outputs": [
    {
     "name": "stdout",
     "output_type": "stream",
     "text": [
      "topCategories\n",
      "images\n",
      "l1Ids\n",
      "longDescription\n",
      "name\n",
      "priceGroup\n",
      "productId\n",
      "productType\n",
      "plds\n",
      "rating\n",
      "representative\n",
      "shortDescription\n",
      "sizeChartUrl\n",
      "sizeInformation\n",
      "sizes\n",
      "washingInformation\n",
      "promoId\n",
      "promoConditionText\n",
      "promotionText\n",
      "productSync\n",
      "writeReviewAvailable\n",
      "nextModelProducts\n",
      "tags\n",
      "countriesOfOrigin\n",
      "productTypeKr\n",
      "prices\n"
     ]
    }
   ],
   "source": [
    "for i in list(result.keys())[10:]:\n",
    "    print(i)\n",
    "\n"
   ]
  },
  {
   "cell_type": "code",
   "execution_count": 37,
   "metadata": {},
   "outputs": [
    {
     "data": {
      "text/plain": [
       "['https://image.uniqlo.com/UQ/ST3/us/imagesgoods/469054/item/usgoods_30_469054.jpg',\n",
       " 'https://image.uniqlo.com/UQ/ST3/us/imagesgoods/469054/item/usgoods_69_469054.jpg',\n",
       " 'https://image.uniqlo.com/UQ/ST3/us/imagesgoods/469054/sub/usgoods_469054_sub1.jpg',\n",
       " 'https://image.uniqlo.com/UQ/ST3/us/imagesgoods/469054/sub/usgoods_469054_sub2.jpg',\n",
       " 'https://image.uniqlo.com/UQ/ST3/us/imagesgoods/469054/sub/usgoods_469054_sub7.jpg',\n",
       " 'https://image.uniqlo.com/UQ/ST3/WesternCommon/imagesgoods/469054/sub/goods_469054_sub13.jpg',\n",
       " 'https://image.uniqlo.com/UQ/ST3/WesternCommon/imagesgoods/469054/sub/goods_469054_sub14.jpg',\n",
       " 'https://image.uniqlo.com/UQ/ST3/WesternCommon/imagesgoods/469054/sub/goods_469054_sub17.jpg',\n",
       " 'https://image.uniqlo.com/UQ/ST3/WesternCommon/imagesgoods/469054/sub/goods_469054_sub18.jpg']"
      ]
     },
     "execution_count": 37,
     "metadata": {},
     "output_type": "execute_result"
    }
   ],
   "source": [
    "[x['image'] for x in result['images']['main'].values()] + [x['image'] for x in result['images']['sub']]"
   ]
  },
  {
   "cell_type": "code",
   "execution_count": 45,
   "metadata": {},
   "outputs": [
    {
     "data": {
      "text/plain": [
       "'New LifeWear that combines UNIQLO’s focus on design, fit, fabric, and functionality with JW ANDERSON’s focus on traditional British apparel into innovative designs.<br><br>- With DRY technology. <br>- Textured pique fabric. <br>- Versatile regular fit. <br>- Tricolor multi-striped design.'"
      ]
     },
     "execution_count": 45,
     "metadata": {},
     "output_type": "execute_result"
    }
   ],
   "source": [
    "result['longDescription']"
   ]
  },
  {
   "cell_type": "code",
   "execution_count": 48,
   "metadata": {},
   "outputs": [
    {
     "data": {
      "text/plain": [
       "'Dry Pique Striped T-Shirt'"
      ]
     },
     "execution_count": 48,
     "metadata": {},
     "output_type": "execute_result"
    }
   ],
   "source": [
    "result['name']"
   ]
  },
  {
   "cell_type": "code",
   "execution_count": null,
   "metadata": {},
   "outputs": [],
   "source": []
  }
 ],
 "metadata": {
  "kernelspec": {
   "display_name": "Python 3",
   "language": "python",
   "name": "python3"
  },
  "language_info": {
   "codemirror_mode": {
    "name": "ipython",
    "version": 3
   },
   "file_extension": ".py",
   "mimetype": "text/x-python",
   "name": "python",
   "nbconvert_exporter": "python",
   "pygments_lexer": "ipython3",
   "version": "3.9.13"
  }
 },
 "nbformat": 4,
 "nbformat_minor": 2
}
